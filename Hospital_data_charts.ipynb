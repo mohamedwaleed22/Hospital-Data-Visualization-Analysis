{
 "cells": [
  {
   "cell_type": "code",
   "execution_count": 1,
   "id": "ac939eb0",
   "metadata": {},
   "outputs": [],
   "source": [
    "import os\n",
    "import numpy as np \n",
    "import pandas as pd\n",
    "import matplotlib.pyplot as plt\n",
    "from PIL import Image\n",
    "import tensorflow_hub as hub    \n",
    "import tensorflow as tf\n",
    "import Augmentor\n",
    "from IPython.display import Image as Im\n",
    "from IPython.display import display\n",
    "%matplotlib inline"
   ]
  },
  {
   "cell_type": "code",
   "execution_count": 8,
   "id": "42412d4c",
   "metadata": {},
   "outputs": [
    {
     "data": {
      "text/html": [
       "<div>\n",
       "<style scoped>\n",
       "    .dataframe tbody tr th:only-of-type {\n",
       "        vertical-align: middle;\n",
       "    }\n",
       "\n",
       "    .dataframe tbody tr th {\n",
       "        vertical-align: top;\n",
       "    }\n",
       "\n",
       "    .dataframe thead th {\n",
       "        text-align: right;\n",
       "    }\n",
       "</style>\n",
       "<table border=\"1\" class=\"dataframe\">\n",
       "  <thead>\n",
       "    <tr style=\"text-align: right;\">\n",
       "      <th></th>\n",
       "      <th>age</th>\n",
       "      <th>gender</th>\n",
       "      <th>height</th>\n",
       "      <th>weight</th>\n",
       "      <th>BSA</th>\n",
       "      <th>cancer</th>\n",
       "      <th>stage</th>\n",
       "      <th>sMaleoker</th>\n",
       "    </tr>\n",
       "  </thead>\n",
       "  <tbody>\n",
       "    <tr>\n",
       "      <th>0</th>\n",
       "      <td>58</td>\n",
       "      <td>Female</td>\n",
       "      <td>160</td>\n",
       "      <td>74</td>\n",
       "      <td>1.81</td>\n",
       "      <td>yes</td>\n",
       "      <td>4</td>\n",
       "      <td>no</td>\n",
       "    </tr>\n",
       "    <tr>\n",
       "      <th>1</th>\n",
       "      <td>45</td>\n",
       "      <td>Male</td>\n",
       "      <td>169</td>\n",
       "      <td>100</td>\n",
       "      <td>2.17</td>\n",
       "      <td>yes</td>\n",
       "      <td>2</td>\n",
       "      <td>yes</td>\n",
       "    </tr>\n",
       "    <tr>\n",
       "      <th>2</th>\n",
       "      <td>60</td>\n",
       "      <td>Female</td>\n",
       "      <td>158</td>\n",
       "      <td>76</td>\n",
       "      <td>1.83</td>\n",
       "      <td>yes</td>\n",
       "      <td>2</td>\n",
       "      <td>no</td>\n",
       "    </tr>\n",
       "    <tr>\n",
       "      <th>3</th>\n",
       "      <td>75</td>\n",
       "      <td>Male</td>\n",
       "      <td>159</td>\n",
       "      <td>73</td>\n",
       "      <td>1.80</td>\n",
       "      <td>yes</td>\n",
       "      <td>4</td>\n",
       "      <td>yes</td>\n",
       "    </tr>\n",
       "    <tr>\n",
       "      <th>4</th>\n",
       "      <td>36</td>\n",
       "      <td>Female</td>\n",
       "      <td>168</td>\n",
       "      <td>91</td>\n",
       "      <td>2.06</td>\n",
       "      <td>yes</td>\n",
       "      <td>2</td>\n",
       "      <td>no</td>\n",
       "    </tr>\n",
       "  </tbody>\n",
       "</table>\n",
       "</div>"
      ],
      "text/plain": [
       "   age  gender  height  weight   BSA cancer  stage sMaleoker\n",
       "0   58  Female     160      74  1.81    yes      4        no\n",
       "1   45    Male     169     100  2.17    yes      2       yes\n",
       "2   60  Female     158      76  1.83    yes      2        no\n",
       "3   75    Male     159      73  1.80    yes      4       yes\n",
       "4   36  Female     168      91  2.06    yes      2        no"
      ]
     },
     "execution_count": 8,
     "metadata": {},
     "output_type": "execute_result"
    }
   ],
   "source": [
    "df_cancer = pd.read_csv('D:/Grad_Proj/hospital_data1.csv')\n",
    "df_cancer1 = df_cancer.drop(['Unnamed: 0'], axis = 1)\n",
    "df_cancer1.head()"
   ]
  },
  {
   "cell_type": "code",
   "execution_count": 9,
   "id": "10f54071",
   "metadata": {},
   "outputs": [
    {
     "data": {
      "text/plain": [
       "492"
      ]
     },
     "execution_count": 9,
     "metadata": {},
     "output_type": "execute_result"
    }
   ],
   "source": [
    "len(df_cancer1)"
   ]
  },
  {
   "cell_type": "code",
   "execution_count": 10,
   "id": "5fbd44d0",
   "metadata": {},
   "outputs": [
    {
     "name": "stdout",
     "output_type": "stream",
     "text": [
      "<class 'pandas.core.frame.DataFrame'>\n",
      "RangeIndex: 492 entries, 0 to 491\n",
      "Data columns (total 8 columns):\n",
      " #   Column     Non-Null Count  Dtype  \n",
      "---  ------     --------------  -----  \n",
      " 0   age        492 non-null    int64  \n",
      " 1   gender     492 non-null    object \n",
      " 2   height     492 non-null    int64  \n",
      " 3   weight     492 non-null    int64  \n",
      " 4   BSA        492 non-null    float64\n",
      " 5   cancer     492 non-null    object \n",
      " 6   stage      492 non-null    int64  \n",
      " 7   sMaleoker  492 non-null    object \n",
      "dtypes: float64(1), int64(4), object(3)\n",
      "memory usage: 30.9+ KB\n"
     ]
    }
   ],
   "source": [
    "df_cancer1.info()"
   ]
  },
  {
   "cell_type": "code",
   "execution_count": 64,
   "id": "b0836208",
   "metadata": {},
   "outputs": [
    {
     "name": "stdout",
     "output_type": "stream",
     "text": [
      "76.743902\n"
     ]
    }
   ],
   "source": [
    "print('{0:2F}'.format(df_cancer1['weight'].mean()))"
   ]
  },
  {
   "cell_type": "code",
   "execution_count": 59,
   "id": "b4130e9d",
   "metadata": {},
   "outputs": [
    {
     "name": "stdout",
     "output_type": "stream",
     "text": [
      "1.851301\n"
     ]
    }
   ],
   "source": [
    "print('{0:2F}'.format(df_cancer1['BSA'].mean()))"
   ]
  },
  {
   "cell_type": "code",
   "execution_count": 20,
   "id": "da5258e2",
   "metadata": {},
   "outputs": [
    {
     "name": "stdout",
     "output_type": "stream",
     "text": [
      "55.495935\n"
     ]
    }
   ],
   "source": [
    "print('{0:2F}'.format(df_cancer1['age'].mean()))"
   ]
  },
  {
   "cell_type": "code",
   "execution_count": 26,
   "id": "a27cb334",
   "metadata": {},
   "outputs": [
    {
     "data": {
      "text/plain": [
       "age          240\n",
       "gender       240\n",
       "height       240\n",
       "weight       240\n",
       "BSA          240\n",
       "cancer       240\n",
       "stage        240\n",
       "sMaleoker    240\n",
       "dtype: int64"
      ]
     },
     "execution_count": 26,
     "metadata": {},
     "output_type": "execute_result"
    }
   ],
   "source": [
    "df1 = df_cancer1.query('age>55.4')\n",
    "df1.count()"
   ]
  },
  {
   "cell_type": "code",
   "execution_count": 43,
   "id": "776a7fa1",
   "metadata": {},
   "outputs": [
    {
     "data": {
      "text/plain": [
       "gender\n",
       "Female    134\n",
       "Male      106\n",
       "Name: age, dtype: int64"
      ]
     },
     "execution_count": 43,
     "metadata": {},
     "output_type": "execute_result"
    }
   ],
   "source": [
    "df1.groupby('gender')['age'].count()"
   ]
  },
  {
   "cell_type": "markdown",
   "id": "c8876dc7",
   "metadata": {},
   "source": [
    "### Female is above average 134 to 106 for males "
   ]
  },
  {
   "cell_type": "code",
   "execution_count": 46,
   "id": "e4cbd18a",
   "metadata": {},
   "outputs": [
    {
     "data": {
      "text/plain": [
       "Text(0.5, 1.0, 'Above Average Age ')"
      ]
     },
     "execution_count": 46,
     "metadata": {},
     "output_type": "execute_result"
    },
    {
     "data": {
      "image/png": "[encoded data removed]",
      "text/plain": [
       "<Figure size 640x480 with 1 Axes>"
      ]
     },
     "metadata": {},
     "output_type": "display_data"
    }
   ],
   "source": [
    "group = df1.groupby('gender')['age'].count()\n",
    "group.plot(kind='bar')\n",
    "plt.title('Above Average Age ')"
   ]
  },
  {
   "cell_type": "code",
   "execution_count": 50,
   "id": "71005b33",
   "metadata": {},
   "outputs": [
    {
     "data": {
      "text/plain": [
       "Text(0.5, 1.0, 'Cancer Stages in the above average age')"
      ]
     },
     "execution_count": 50,
     "metadata": {},
     "output_type": "execute_result"
    },
    {
     "data": {
      "image/png": "[encoded data removed]",
      "text/plain": [
       "<Figure size 640x480 with 1 Axes>"
      ]
     },
     "metadata": {},
     "output_type": "display_data"
    }
   ],
   "source": [
    "group = df1.groupby('stage')['gender'].count()\n",
    "group.plot(kind='bar')\n",
    "plt.title('Cancer Stages in the above average age')"
   ]
  },
  {
   "cell_type": "code",
   "execution_count": 53,
   "id": "0b32db15",
   "metadata": {},
   "outputs": [
    {
     "data": {
      "text/plain": [
       "Text(0.5, 1.0, 'Age differnece by gender')"
      ]
     },
     "execution_count": 53,
     "metadata": {},
     "output_type": "execute_result"
    },
    {
     "data": {
      "image/png": "[encoded data removed]",
      "text/plain": [
       "<Figure size 640x480 with 1 Axes>"
      ]
     },
     "metadata": {},
     "output_type": "display_data"
    }
   ],
   "source": [
    "group = df_cancer1.groupby('gender')['age'].count()\n",
    "group.plot(kind='bar')\n",
    "plt.title('Age differnece by gender')"
   ]
  },
  {
   "cell_type": "code",
   "execution_count": 62,
   "id": "68305b87",
   "metadata": {},
   "outputs": [
    {
     "data": {
      "text/plain": [
       "Text(0.5, 1.0, 'Cancer Stages classification')"
      ]
     },
     "execution_count": 62,
     "metadata": {},
     "output_type": "execute_result"
    },
    {
     "data": {
      "image/png": "[encoded data removed]",
      "text/plain": [
       "<Figure size 640x480 with 1 Axes>"
      ]
     },
     "metadata": {},
     "output_type": "display_data"
    }
   ],
   "source": [
    "group = df_cancer1.groupby('stage')['gender'].count()\n",
    "group.plot(kind='pie')\n",
    "plt.title('Cancer Stages classification')"
   ]
  },
  {
   "cell_type": "code",
   "execution_count": null,
   "id": "e6481467",
   "metadata": {},
   "outputs": [],
   "source": []
  },
  {
   "cell_type": "code",
   "execution_count": null,
   "id": "edeb9b59",
   "metadata": {},
   "outputs": [],
   "source": []
  },
  {
   "cell_type": "markdown",
   "id": "cdba148c",
   "metadata": {},
   "source": [
    "## Normal data"
   ]
  },
  {
   "cell_type": "code",
   "execution_count": 55,
   "id": "f742ab53",
   "metadata": {},
   "outputs": [
    {
     "data": {
      "text/html": [
       "<div>\n",
       "<style scoped>\n",
       "    .dataframe tbody tr th:only-of-type {\n",
       "        vertical-align: middle;\n",
       "    }\n",
       "\n",
       "    .dataframe tbody tr th {\n",
       "        vertical-align: top;\n",
       "    }\n",
       "\n",
       "    .dataframe thead th {\n",
       "        text-align: right;\n",
       "    }\n",
       "</style>\n",
       "<table border=\"1\" class=\"dataframe\">\n",
       "  <thead>\n",
       "    <tr style=\"text-align: right;\">\n",
       "      <th></th>\n",
       "      <th>age</th>\n",
       "      <th>sex</th>\n",
       "      <th>height</th>\n",
       "      <th>weight</th>\n",
       "      <th>BSA</th>\n",
       "      <th>smoker</th>\n",
       "      <th>cancer</th>\n",
       "    </tr>\n",
       "  </thead>\n",
       "  <tbody>\n",
       "    <tr>\n",
       "      <th>0</th>\n",
       "      <td>72</td>\n",
       "      <td>Male</td>\n",
       "      <td>171.0</td>\n",
       "      <td>110.0</td>\n",
       "      <td>2.29</td>\n",
       "      <td>yes</td>\n",
       "      <td>no</td>\n",
       "    </tr>\n",
       "    <tr>\n",
       "      <th>1</th>\n",
       "      <td>66</td>\n",
       "      <td>Female</td>\n",
       "      <td>145.0</td>\n",
       "      <td>53.2</td>\n",
       "      <td>1.46</td>\n",
       "      <td>yes</td>\n",
       "      <td>no</td>\n",
       "    </tr>\n",
       "    <tr>\n",
       "      <th>2</th>\n",
       "      <td>57</td>\n",
       "      <td>Male</td>\n",
       "      <td>178.0</td>\n",
       "      <td>58.0</td>\n",
       "      <td>1.69</td>\n",
       "      <td>yes</td>\n",
       "      <td>no</td>\n",
       "    </tr>\n",
       "    <tr>\n",
       "      <th>3</th>\n",
       "      <td>76</td>\n",
       "      <td>Female</td>\n",
       "      <td>162.0</td>\n",
       "      <td>72.6</td>\n",
       "      <td>1.81</td>\n",
       "      <td>no</td>\n",
       "      <td>no</td>\n",
       "    </tr>\n",
       "    <tr>\n",
       "      <th>4</th>\n",
       "      <td>56</td>\n",
       "      <td>Male</td>\n",
       "      <td>190.0</td>\n",
       "      <td>88.0</td>\n",
       "      <td>2.16</td>\n",
       "      <td>no</td>\n",
       "      <td>no</td>\n",
       "    </tr>\n",
       "  </tbody>\n",
       "</table>\n",
       "</div>"
      ],
      "text/plain": [
       "   age     sex  height  weight   BSA smoker cancer\n",
       "0   72    Male   171.0   110.0  2.29    yes     no\n",
       "1   66  Female   145.0    53.2  1.46    yes     no\n",
       "2   57    Male   178.0    58.0  1.69    yes     no\n",
       "3   76  Female   162.0    72.6  1.81     no     no\n",
       "4   56    Male   190.0    88.0  2.16     no     no"
      ]
     },
     "execution_count": 55,
     "metadata": {},
     "output_type": "execute_result"
    }
   ],
   "source": [
    "df_norm = pd.read_csv('D:/Grad_Proj/normal_data.csv')\n",
    "df_norm1 = df_norm.drop(['Unnamed: 0'], axis = 1)\n",
    "df_norm1.head()"
   ]
  },
  {
   "cell_type": "code",
   "execution_count": 56,
   "id": "b8a88ddc",
   "metadata": {},
   "outputs": [
    {
     "name": "stdout",
     "output_type": "stream",
     "text": [
      "<class 'pandas.core.frame.DataFrame'>\n",
      "RangeIndex: 166 entries, 0 to 165\n",
      "Data columns (total 7 columns):\n",
      " #   Column  Non-Null Count  Dtype  \n",
      "---  ------  --------------  -----  \n",
      " 0   age     166 non-null    int64  \n",
      " 1   sex     166 non-null    object \n",
      " 2   height  166 non-null    float64\n",
      " 3   weight  166 non-null    float64\n",
      " 4   BSA     166 non-null    float64\n",
      " 5   smoker  166 non-null    object \n",
      " 6   cancer  166 non-null    object \n",
      "dtypes: float64(3), int64(1), object(3)\n",
      "memory usage: 9.2+ KB\n"
     ]
    }
   ],
   "source": [
    "df_norm1.info()"
   ]
  },
  {
   "cell_type": "code",
   "execution_count": 57,
   "id": "001bcb96",
   "metadata": {},
   "outputs": [
    {
     "name": "stdout",
     "output_type": "stream",
     "text": [
      "63.421687\n"
     ]
    }
   ],
   "source": [
    "print('{0:2F}'.format(df_norm1['age'].mean()))"
   ]
  },
  {
   "cell_type": "code",
   "execution_count": 58,
   "id": "7b9b392a",
   "metadata": {},
   "outputs": [
    {
     "name": "stdout",
     "output_type": "stream",
     "text": [
      "1.946687\n"
     ]
    }
   ],
   "source": [
    "print('{0:2F}'.format(df_norm1['BSA'].mean()))"
   ]
  },
  {
   "cell_type": "code",
   "execution_count": 63,
   "id": "b651a28e",
   "metadata": {},
   "outputs": [
    {
     "name": "stdout",
     "output_type": "stream",
     "text": [
      "82.468072\n"
     ]
    }
   ],
   "source": [
    "print('{0:2F}'.format(df_norm1['weight'].mean()))"
   ]
  },
  {
   "cell_type": "code",
   "execution_count": 4,
   "id": "adcc9f00",
   "metadata": {},
   "outputs": [],
   "source": [
    "df1 = pd.read_csv('D:/Grad_Proj/hospital_data1.csv')\n",
    "df_11 = df1.drop(['Unnamed: 0'], axis = 1)\n",
    "df2 = pd.read_csv('D:/Grad_Proj/normal_data.csv')\n",
    "df_22 = df2.drop(['Unnamed: 0'], axis = 1)\n"
   ]
  },
  {
   "cell_type": "code",
   "execution_count": 9,
   "id": "7a779bbb",
   "metadata": {},
   "outputs": [
    {
     "data": {
      "text/plain": [
       "age       492\n",
       "gender    492\n",
       "height    492\n",
       "weight    492\n",
       "BSA       492\n",
       "cancer    492\n",
       "stage     492\n",
       "smoker    492\n",
       "dtype: int64"
      ]
     },
     "execution_count": 9,
     "metadata": {},
     "output_type": "execute_result"
    }
   ],
   "source": [
    "df_11.count()"
   ]
  },
  {
   "cell_type": "code",
   "execution_count": 8,
   "id": "a838b0b3",
   "metadata": {},
   "outputs": [
    {
     "data": {
      "text/plain": [
       "age       166\n",
       "gender    166\n",
       "height    166\n",
       "weight    166\n",
       "BSA       166\n",
       "cancer    166\n",
       "stage     166\n",
       "smoker    166\n",
       "dtype: int64"
      ]
     },
     "execution_count": 8,
     "metadata": {},
     "output_type": "execute_result"
    }
   ],
   "source": [
    "df_22.count()"
   ]
  },
  {
   "cell_type": "code",
   "execution_count": 10,
   "id": "25570569",
   "metadata": {},
   "outputs": [],
   "source": [
    "frames = [df_11, df_22]\n",
    "result = pd.concat(frames)"
   ]
  },
  {
   "cell_type": "code",
   "execution_count": 12,
   "id": "aab5167e",
   "metadata": {},
   "outputs": [],
   "source": [
    "result.to_csv('D:/Grad_Proj/final_data.csv')"
   ]
  },
  {
   "cell_type": "code",
   "execution_count": null,
   "id": "dbac93ec",
   "metadata": {},
   "outputs": [],
   "source": []
  }
 ],
 "metadata": {
  "kernelspec": {
   "display_name": "Python 3 (ipykernel)",
   "language": "python",
   "name": "python3"
  },
  "language_info": {
   "codemirror_mode": {
    "name": "ipython",
    "version": 3
   },
   "file_extension": ".py",
   "mimetype": "text/x-python",
   "name": "python",
   "nbconvert_exporter": "python",
   "pygments_lexer": "ipython3",
   "version": "3.9.13"
  }
 },
 "nbformat": 4,
 "nbformat_minor": 5
}
